{
 "cells": [
  {
   "cell_type": "code",
   "execution_count": 1,
   "metadata": {},
   "outputs": [],
   "source": [
    "import cv2\n",
    "import matplotlib.pyplot as plt\n",
    "import numpy as np\n",
    "from pathlib import Path"
   ]
  },
  {
   "cell_type": "markdown",
   "metadata": {},
   "source": [
    "# Training Data"
   ]
  },
  {
   "cell_type": "code",
   "execution_count": 2,
   "metadata": {},
   "outputs": [
    {
     "name": "stdout",
     "output_type": "stream",
     "text": [
      "01_forged.mp4\n",
      "Number Of Frames:  210\n",
      "02_forged.mp4\n",
      "Number Of Frames:  329\n",
      "03_forged.mp4\n",
      "Number Of Frames:  313\n",
      "04_forged.mp4\n",
      "Number Of Frames:  319\n",
      "05_forged.mp4\n",
      "Number Of Frames:  583\n",
      "06_forged.mp4\n",
      "Number Of Frames:  262\n",
      "07_forged.mp4\n",
      "Number Of Frames:  412\n",
      "08_forged.mp4\n",
      "Number Of Frames:  274\n",
      "09_forged.mp4\n",
      "Number Of Frames:  554\n",
      "10_forged.mp4\n",
      "Number Of Frames:  239\n",
      "Total Frames in Forked Directory:  3495\n",
      "01_original.mp4\n",
      "Number Of Frames:  210\n",
      "02_original.mp4\n",
      "Number Of Frames:  329\n",
      "03_original.mp4\n",
      "Number Of Frames:  313\n",
      "04_original.mp4\n",
      "Number Of Frames:  319\n",
      "05_original.mp4\n",
      "Number Of Frames:  583\n",
      "06_original.mp4\n",
      "Number Of Frames:  262\n",
      "07_original.mp4\n",
      "Number Of Frames:  412\n",
      "08_original.mp4\n",
      "Number Of Frames:  274\n",
      "09_original.mp4\n",
      "Number Of Frames:  554\n",
      "10_original.mp4\n",
      "Number Of Frames:  239\n",
      "Total Frames in Original Directory:  3495\n"
     ]
    }
   ],
   "source": [
    "p1 = Path('G:/Video_Forgery_Detection_Using_Machine_Learning/video_tampering_dataset/videos/Forged')\n",
    "train = []\n",
    "\n",
    "sum1 =0\n",
    "for fvids in p1.glob('*.mp4'):\n",
    "    print(str(fvids).split('\\\\')[-1])\n",
    "    cap= cv2.VideoCapture(str(fvids))\n",
    "    i=0\n",
    "    while(cap.isOpened()):\n",
    "        ret, frame = cap.read()\n",
    "        if ret == False:\n",
    "            break\n",
    "        i+=1\n",
    "        train.append(frame)\n",
    "    sum1 +=i\n",
    "    print(\"Number Of Frames: \",i)\n",
    "    cap.release()\n",
    "    \n",
    "print(\"Total Frames in Forked Directory: \",sum1)\n",
    "p2 = Path('G:/Video_Forgery_Detection_Using_Machine_Learning/video_tampering_dataset/videos/Original')\n",
    "\n",
    "sum2 = 0\n",
    "for ovids in p2.glob('*.mp4'):\n",
    "    print(str(ovids).split('\\\\')[-1])\n",
    "    cap= cv2.VideoCapture(str(ovids))\n",
    "    i=0\n",
    "    while(cap.isOpened()):\n",
    "        ret, frame = cap.read()\n",
    "        if ret == False:\n",
    "            break\n",
    "        i+=1\n",
    "        train.append(frame)\n",
    "    sum2 +=i\n",
    "    print(\"Number Of Frames: \",i)\n",
    "    cap.release()\n",
    "    \n",
    "print(\"Total Frames in Original Directory: \",sum2)"
   ]
  },
  {
   "cell_type": "code",
   "execution_count": 3,
   "metadata": {},
   "outputs": [
    {
     "name": "stdout",
     "output_type": "stream",
     "text": [
      "6990\n"
     ]
    }
   ],
   "source": [
    "print(len(train))"
   ]
  },
  {
   "cell_type": "markdown",
   "metadata": {},
   "source": [
    "# Training Labels"
   ]
  },
  {
   "cell_type": "code",
   "execution_count": 4,
   "metadata": {},
   "outputs": [],
   "source": [
    "def isforged(img):\n",
    "    flag =0\n",
    "    for i in range(img.shape[0]):\n",
    "        for j in range(img.shape[1]):\n",
    "            if img[i][j]==1:\n",
    "                flag =1\n",
    "                break\n",
    "                \n",
    "    if flag ==0: return 0\n",
    "    else: return 1"
   ]
  },
  {
   "cell_type": "code",
   "execution_count": 5,
   "metadata": {},
   "outputs": [],
   "source": [
    "from scipy.io import loadmat"
   ]
  },
  {
   "cell_type": "code",
   "execution_count": 6,
   "metadata": {},
   "outputs": [
    {
     "name": "stdout",
     "output_type": "stream",
     "text": [
      "01_gt.mat\n",
      "Number of Frames:  210\n",
      "02_gt.mat\n",
      "Number of Frames:  329\n",
      "03_gt.mat\n",
      "Number of Frames:  313\n",
      "04_gt.mat\n",
      "Number of Frames:  319\n",
      "05_gt.mat\n",
      "Number of Frames:  583\n",
      "06_gt.mat\n",
      "Number of Frames:  262\n",
      "07_gt.mat\n",
      "Number of Frames:  412\n",
      "08_gt.mat\n",
      "Number of Frames:  274\n",
      "09_gt.mat\n",
      "Number of Frames:  554\n",
      "10_gt.mat\n",
      "Number of Frames:  239\n"
     ]
    }
   ],
   "source": [
    "p3 = Path('G:/Video_Forgery_Detection_Using_Machine_Learning/video_tampering_dataset/groundtruth')\n",
    "\n",
    "labels = []\n",
    "for mats in p3.glob('*.mat'):\n",
    "    print(str(mats).split('\\\\')[-1])\n",
    "    mask = loadmat(str(mats))['GT'].reshape((-1,240,320))\n",
    "    print(\"Number of Frames: \",mask.shape[0])\n",
    "    for i in range(mask.shape[0]):\n",
    "        labels.append(isforged(mask[i]))"
   ]
  },
  {
   "cell_type": "code",
   "execution_count": 7,
   "metadata": {},
   "outputs": [
    {
     "name": "stdout",
     "output_type": "stream",
     "text": [
      "3495\n"
     ]
    }
   ],
   "source": [
    "print(len(labels))"
   ]
  },
  {
   "cell_type": "code",
   "execution_count": 8,
   "metadata": {},
   "outputs": [],
   "source": [
    "#print(labels)"
   ]
  },
  {
   "cell_type": "code",
   "execution_count": 9,
   "metadata": {},
   "outputs": [
    {
     "name": "stdout",
     "output_type": "stream",
     "text": [
      "6990\n"
     ]
    }
   ],
   "source": [
    "# Original Data doesn't have any forged frames\n",
    "for i in range(len(train)-len(labels)):\n",
    "    labels.append(0)\n",
    "    \n",
    "print(len(labels))"
   ]
  },
  {
   "cell_type": "markdown",
   "metadata": {},
   "source": [
    "# Shuffle Data"
   ]
  },
  {
   "cell_type": "code",
   "execution_count": 10,
   "metadata": {},
   "outputs": [],
   "source": [
    "import random"
   ]
  },
  {
   "cell_type": "code",
   "execution_count": 11,
   "metadata": {},
   "outputs": [],
   "source": [
    "combined = list(zip(train,labels))\n",
    "random.shuffle(combined)\n",
    "\n",
    "train[:],labels[:] = zip(*combined)"
   ]
  },
  {
   "cell_type": "markdown",
   "metadata": {},
   "source": [
    "# Numpy Conversion"
   ]
  },
  {
   "cell_type": "code",
   "execution_count": 12,
   "metadata": {},
   "outputs": [],
   "source": [
    "# Converting to numpy arrays\n",
    "Xtrain = np.array(train)\n",
    "Ytrain = np.array(labels).astype('float32')"
   ]
  },
  {
   "cell_type": "code",
   "execution_count": 13,
   "metadata": {},
   "outputs": [
    {
     "name": "stdout",
     "output_type": "stream",
     "text": [
      "(6990, 240, 320, 3)\n",
      "(6990,)\n"
     ]
    }
   ],
   "source": [
    "print(Xtrain.shape)\n",
    "print(Ytrain.shape)"
   ]
  },
  {
   "cell_type": "code",
   "execution_count": 19,
   "metadata": {},
   "outputs": [
    {
     "name": "stdout",
     "output_type": "stream",
     "text": [
      "1.0\n"
     ]
    }
   ],
   "source": [
    "print(Ytrain[180])"
   ]
  },
  {
   "cell_type": "markdown",
   "metadata": {},
   "source": [
    "# Saving Processed Data"
   ]
  },
  {
   "cell_type": "code",
   "execution_count": 20,
   "metadata": {},
   "outputs": [],
   "source": [
    "np.save(\"G:/Video_Forgery_Detection_Using_Machine_Learning/video_tampering_dataset/Xtrain.npy\",Xtrain)"
   ]
  },
  {
   "cell_type": "code",
   "execution_count": 21,
   "metadata": {},
   "outputs": [],
   "source": [
    "np.save(\"G:/Video_Forgery_Detection_Using_Machine_Learning/video_tampering_dataset/Ytrain.npy\",Ytrain)"
   ]
  }
 ],
 "metadata": {
  "kernelspec": {
   "display_name": "Python 3",
   "language": "python",
   "name": "python3"
  },
  "language_info": {
   "codemirror_mode": {
    "name": "ipython",
    "version": 3
   },
   "file_extension": ".py",
   "mimetype": "text/x-python",
   "name": "python",
   "nbconvert_exporter": "python",
   "pygments_lexer": "ipython3",
   "version": "3.7.6"
  }
 },
 "nbformat": 4,
 "nbformat_minor": 4
}
